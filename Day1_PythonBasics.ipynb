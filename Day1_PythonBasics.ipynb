{
  "nbformat": 4,
  "nbformat_minor": 0,
  "metadata": {
    "colab": {
      "provenance": [],
      "authorship_tag": "ABX9TyPg0CejlkdMBG9FZwYoQMBL",
      "include_colab_link": true
    },
    "kernelspec": {
      "name": "python3",
      "display_name": "Python 3"
    },
    "language_info": {
      "name": "python"
    }
  },
  "cells": [
    {
      "cell_type": "markdown",
      "metadata": {
        "id": "view-in-github",
        "colab_type": "text"
      },
      "source": [
        "<a href=\"https://colab.research.google.com/github/abhilashmarathe/data_science_30days/blob/main/Day1_PythonBasics.ipynb\" target=\"_parent\"><img src=\"https://colab.research.google.com/assets/colab-badge.svg\" alt=\"Open In Colab\"/></a>"
      ]
    },
    {
      "cell_type": "markdown",
      "source": [
        "# **Part 1: Basics**"
      ],
      "metadata": {
        "id": "JL3n459JPsTi"
      }
    },
    {
      "cell_type": "code",
      "execution_count": 1,
      "metadata": {
        "colab": {
          "base_uri": "https://localhost:8080/"
        },
        "id": "l_3wyceBOS8G",
        "outputId": "e70b3765-d40a-4bae-d628-6f093c0b7e80"
      },
      "outputs": [
        {
          "output_type": "stream",
          "name": "stdout",
          "text": [
            "Starting my 30-day Data Science Bootcamp\n"
          ]
        }
      ],
      "source": [
        "# Print \"Starting my 30-day Data Science Bootcamp!\"\n",
        "\n",
        "print(\"Starting my 30-day Data Science Bootcamp\")"
      ]
    },
    {
      "cell_type": "code",
      "source": [
        "# Create variables: your name, goal (string), days (int)\n",
        "\n",
        "# 1. Your name (as a string)\n",
        "your_name = \"Abhilash\"\n",
        "\n",
        "# 2. Goal (as a string)\n",
        "goal = \"To become a successful Data Scientist.\"\n",
        "\n",
        "# 3. Days (as an integer)\n",
        "days = 30\n",
        "\n",
        "print(f\"Hello! My name is {your_name}. My goal is {goal}. I have {days} days a month to achieve!\")"
      ],
      "metadata": {
        "colab": {
          "base_uri": "https://localhost:8080/"
        },
        "id": "7FAPVnBiOuqa",
        "outputId": "3295cf76-dd58-475a-87b7-8b47bad40064"
      },
      "execution_count": 3,
      "outputs": [
        {
          "output_type": "stream",
          "name": "stdout",
          "text": [
            "Hello! My name is Abhilash. My goal is To become a successful Data Scientist.. I have 30 days a month to achieve!\n"
          ]
        }
      ]
    },
    {
      "cell_type": "code",
      "source": [
        "# Print: \"My name is [your name] and my goal is to become a Data Scientist in [days] days.\"\n",
        "\n",
        "print(f\"My name is {your_name} and my goal is to become a Data Scientist in {days} days.\")"
      ],
      "metadata": {
        "colab": {
          "base_uri": "https://localhost:8080/"
        },
        "id": "Br2q6uTcPggH",
        "outputId": "c717bac5-e20b-485b-bccd-b4ab975e66c7"
      },
      "execution_count": 4,
      "outputs": [
        {
          "output_type": "stream",
          "name": "stdout",
          "text": [
            "My name is Abhilash and my goal is to become a Data Scientist in 30 days.\n"
          ]
        }
      ]
    },
    {
      "cell_type": "markdown",
      "source": [
        "# **Part 2: Lists, Loops, Conditions**"
      ],
      "metadata": {
        "id": "hccMHHoCPzd_"
      }
    },
    {
      "cell_type": "code",
      "source": [
        "# Create a list of 10 random integers\n",
        "\n",
        "import random\n",
        "\n",
        "random_integers = [random.randint(1, 100) for _ in range(10)]\n",
        "print(random_integers)"
      ],
      "metadata": {
        "colab": {
          "base_uri": "https://localhost:8080/"
        },
        "id": "ZAnEddwRP2hJ",
        "outputId": "5d14fa76-4eaf-4daf-d69a-f816029811ae"
      },
      "execution_count": 5,
      "outputs": [
        {
          "output_type": "stream",
          "name": "stdout",
          "text": [
            "[10, 14, 78, 87, 22, 18, 86, 76, 75, 8]\n"
          ]
        }
      ]
    },
    {
      "cell_type": "code",
      "source": [
        "# Write a function to: Return the largest number\n",
        "\n",
        "def largest_number(numbers):\n",
        "    return max(numbers)\n",
        "print(f\"The largest number is {largest_number(random_integers)}\")"
      ],
      "metadata": {
        "colab": {
          "base_uri": "https://localhost:8080/"
        },
        "id": "EwjjPMhkP_sh",
        "outputId": "8f96ffae-0c4a-4082-f092-29fdb49d00bd"
      },
      "execution_count": 7,
      "outputs": [
        {
          "output_type": "stream",
          "name": "stdout",
          "text": [
            "The largest number is 87\n"
          ]
        }
      ]
    },
    {
      "cell_type": "code",
      "source": [
        "# Write a function to: Return the even numbers\n",
        "\n",
        "def even_numbers(numbers):\n",
        "    return [num for num in numbers if num % 2 == 0]\n",
        "print(f\"The even numbers are {even_numbers(random_integers)}\")"
      ],
      "metadata": {
        "colab": {
          "base_uri": "https://localhost:8080/"
        },
        "id": "EnP1ipvxQN5K",
        "outputId": "d83884b4-0642-4241-998a-c5ed0e85915e"
      },
      "execution_count": 8,
      "outputs": [
        {
          "output_type": "stream",
          "name": "stdout",
          "text": [
            "The even numbers are [10, 14, 78, 22, 18, 86, 76, 8]\n"
          ]
        }
      ]
    },
    {
      "cell_type": "code",
      "source": [
        "# Write a function to: Return the sum of all numbers\n",
        "\n",
        "def sum_of_numbers(numbers):\n",
        "    return sum(numbers)\n",
        "print(f\"The sum of all numbers is {sum_of_numbers(random_integers)}\")"
      ],
      "metadata": {
        "colab": {
          "base_uri": "https://localhost:8080/"
        },
        "id": "9oxyLY64QWhB",
        "outputId": "d8010d9e-60ab-474b-d2dd-e36089f19d1b"
      },
      "execution_count": 9,
      "outputs": [
        {
          "output_type": "stream",
          "name": "stdout",
          "text": [
            "The sum of all numbers is 474\n"
          ]
        }
      ]
    },
    {
      "cell_type": "code",
      "source": [
        "# Write a loop that prints: \"Even\" if number is even \"Odd\" if number is odd\n",
        "\n",
        "for num in random_integers:\n",
        "    if num % 2 == 0:\n",
        "        print(f\"{num} is even\")\n",
        "    else:\n",
        "        print(f\"{num} is odd\")"
      ],
      "metadata": {
        "colab": {
          "base_uri": "https://localhost:8080/"
        },
        "id": "DAXjqZI4QmFc",
        "outputId": "fb236970-83cd-48cd-a4bf-74914e9c79e7"
      },
      "execution_count": 10,
      "outputs": [
        {
          "output_type": "stream",
          "name": "stdout",
          "text": [
            "10 is even\n",
            "14 is even\n",
            "78 is even\n",
            "87 is odd\n",
            "22 is even\n",
            "18 is even\n",
            "86 is even\n",
            "76 is even\n",
            "75 is odd\n",
            "8 is even\n"
          ]
        }
      ]
    },
    {
      "cell_type": "markdown",
      "source": [
        "# **Part 3: Dictionary Practice**"
      ],
      "metadata": {
        "id": "_zZqMgzaQxgH"
      }
    },
    {
      "cell_type": "code",
      "source": [
        "# Create a dictionary of 5 students with their marks.\n",
        "\n",
        "student_marks = {\n",
        "    \"Alice\": 85,\n",
        "    \"Bob\": 92,\n",
        "    \"Charlie\": 78,\n",
        "    \"David\": 95,\n",
        "    \"Emily\": 88\n",
        "}\n",
        "\n",
        "print(student_marks)"
      ],
      "metadata": {
        "colab": {
          "base_uri": "https://localhost:8080/"
        },
        "id": "-U4dzOUVQy1h",
        "outputId": "cdb6f78d-bab9-43c1-b695-55fd2cc4d535"
      },
      "execution_count": 11,
      "outputs": [
        {
          "output_type": "stream",
          "name": "stdout",
          "text": [
            "{'Alice': 85, 'Bob': 92, 'Charlie': 78, 'David': 95, 'Emily': 88}\n"
          ]
        }
      ]
    },
    {
      "cell_type": "code",
      "source": [
        "# Write a function that returns: The student with the highest marks and The average marks\n",
        "\n",
        "def highest_marks_and_average(marks):\n",
        "    highest_student = max(marks, key=marks.get)\n",
        "    average_marks = sum(marks.values()) / len(marks)\n",
        "    return highest_student, average_marks\n",
        "\n",
        "print(f\"The student with the highest marks is {highest_marks_and_average(student_marks)[0]} with {highest_marks_and_average(student_marks)[1]} marks\")\n",
        "print(f\"The average marks of all students is {highest_marks_and_average(student_marks)[1]} with {highest_marks_and_average(student_marks)[0]} having the highest marks\")"
      ],
      "metadata": {
        "colab": {
          "base_uri": "https://localhost:8080/"
        },
        "id": "sp2rFEPaRSrr",
        "outputId": "9b7a50b9-e57d-4341-fa4f-d4f2850600d9"
      },
      "execution_count": 15,
      "outputs": [
        {
          "output_type": "stream",
          "name": "stdout",
          "text": [
            "The student with the highest marks is David with 87.6 marks\n",
            "The average marks of all students is 87.6 with David having the highest marks\n"
          ]
        }
      ]
    },
    {
      "cell_type": "markdown",
      "source": [
        "# **Part 4: Comprehensions**"
      ],
      "metadata": {
        "id": "Vq68eiq_S0KR"
      }
    },
    {
      "cell_type": "code",
      "source": [
        "# Using list comprehension Create a list of squares of numbers 1–20\n",
        "\n",
        "squares = [x**2 for x in range(1, 21)]\n",
        "print(squares)"
      ],
      "metadata": {
        "colab": {
          "base_uri": "https://localhost:8080/"
        },
        "id": "kW6nwjgcSmHp",
        "outputId": "972a6b40-b4df-4e04-f5f2-e36af6e62793"
      },
      "execution_count": 16,
      "outputs": [
        {
          "output_type": "stream",
          "name": "stdout",
          "text": [
            "[1, 4, 9, 16, 25, 36, 49, 64, 81, 100, 121, 144, 169, 196, 225, 256, 289, 324, 361, 400]\n"
          ]
        }
      ]
    },
    {
      "cell_type": "code",
      "source": [
        "# Using list comprehension Create a list of only even squares\n",
        "\n",
        "even_squares = [x**2 for x in range(1, 21) if x % 2 == 0]\n",
        "print(even_squares)"
      ],
      "metadata": {
        "colab": {
          "base_uri": "https://localhost:8080/"
        },
        "id": "678p8BSPTbiu",
        "outputId": "31088597-934e-4467-cefc-ba1bd6cb1f88"
      },
      "execution_count": 17,
      "outputs": [
        {
          "output_type": "stream",
          "name": "stdout",
          "text": [
            "[4, 16, 36, 64, 100, 144, 196, 256, 324, 400]\n"
          ]
        }
      ]
    },
    {
      "cell_type": "markdown",
      "source": [
        "# **Part 5: Bonus (Optional but recommended)**"
      ],
      "metadata": {
        "id": "Lj53h_iXTyp8"
      }
    },
    {
      "cell_type": "code",
      "source": [
        "# Create a function factorial(n) without using math library\n",
        "\n",
        "def factorial(n):\n",
        "    if n == 0:\n",
        "        return 1\n",
        "    else:\n",
        "        result = 1\n",
        "        for i in range(1, n + 1):\n",
        "            result *= i\n",
        "        return result\n",
        "\n",
        "print(factorial(5))\n"
      ],
      "metadata": {
        "colab": {
          "base_uri": "https://localhost:8080/"
        },
        "id": "oO_CpNxIT1bF",
        "outputId": "fc1a342b-23db-4d45-cad0-8059de3c60b4"
      },
      "execution_count": 18,
      "outputs": [
        {
          "output_type": "stream",
          "name": "stdout",
          "text": [
            "120\n"
          ]
        }
      ]
    },
    {
      "cell_type": "code",
      "source": [
        "# Create a function is_prime(n) that checks if a number is prime\n",
        "\n",
        "def is_prime(n):\n",
        "    if n < 2:\n",
        "        return False\n",
        "    for i in range(2, int(n**0.5) + 1):\n",
        "        if n % i == 0:\n",
        "            return False\n",
        "    return True\n",
        "\n",
        "print(is_prime(17))"
      ],
      "metadata": {
        "colab": {
          "base_uri": "https://localhost:8080/"
        },
        "id": "i14-IF-YUUaQ",
        "outputId": "c7611e71-f1ba-4c20-b880-4b144df2eee9"
      },
      "execution_count": 20,
      "outputs": [
        {
          "output_type": "stream",
          "name": "stdout",
          "text": [
            "True\n"
          ]
        }
      ]
    }
  ]
}