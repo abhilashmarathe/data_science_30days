{
  "nbformat": 4,
  "nbformat_minor": 0,
  "metadata": {
    "colab": {
      "provenance": [],
      "authorship_tag": "ABX9TyPfeZinaN0nspK6/SyVvPGR",
      "include_colab_link": true
    },
    "kernelspec": {
      "name": "python3",
      "display_name": "Python 3"
    },
    "language_info": {
      "name": "python"
    }
  },
  "cells": [
    {
      "cell_type": "markdown",
      "metadata": {
        "id": "view-in-github",
        "colab_type": "text"
      },
      "source": [
        "<a href=\"https://colab.research.google.com/github/abhilashmarathe/data_science_30days/blob/main/Day2_AdvancedPython_DataLoading.ipynb\" target=\"_parent\"><img src=\"https://colab.research.google.com/assets/colab-badge.svg\" alt=\"Open In Colab\"/></a>"
      ]
    },
    {
      "cell_type": "markdown",
      "source": [
        "# **Part 1: File Handling & Modules**"
      ],
      "metadata": {
        "id": "zWcsQiy1-fEX"
      }
    },
    {
      "cell_type": "code",
      "source": [
        "%%writefile utils.py\n",
        "\n",
        "def read_text(file_path):\n",
        "    \"\"\"Reads a text file and returns list of lines\"\"\"\n",
        "    with open(file_path, 'r') as f:\n",
        "        return f.readlines()\n",
        "\n",
        "def write_text(file_path, lines_list):\n",
        "    \"\"\"Writes list of strings to a text file\"\"\"\n",
        "    with open(file_path, 'w') as f:\n",
        "        for line in lines_list:\n",
        "            f.write(line)"
      ],
      "metadata": {
        "colab": {
          "base_uri": "https://localhost:8080/"
        },
        "id": "1I-gZZVKDKQ8",
        "outputId": "fb78fc8c-959a-4ded-f352-e00b810ea92c"
      },
      "execution_count": 21,
      "outputs": [
        {
          "output_type": "stream",
          "name": "stdout",
          "text": [
            "Writing utils.py\n"
          ]
        }
      ]
    },
    {
      "cell_type": "code",
      "source": [
        "from utils import read_text, write_text\n",
        "\n",
        "# Create a sample file\n",
        "with open(\"demo.txt\", \"w\") as f:\n",
        "    f.write(\"hello\\nworld\\npython\")\n",
        "\n",
        "# Read and modify\n",
        "lines = read_text(\"demo.txt\")\n",
        "lines_upper = [line.upper() for line in lines]\n",
        "\n",
        "# Write modified content\n",
        "write_text(\"demo_upper.txt\", lines_upper)\n",
        "\n",
        "# Assert check\n",
        "assert len(lines) == len(lines_upper), \"Line count mismatch!\"\n",
        "print(\"✅ File handling works perfectly!\")\n"
      ],
      "metadata": {
        "colab": {
          "base_uri": "https://localhost:8080/"
        },
        "id": "2Pl8SCzUDOYA",
        "outputId": "b3704acd-41d9-4f8c-c041-dbec10e09c28"
      },
      "execution_count": 22,
      "outputs": [
        {
          "output_type": "stream",
          "name": "stdout",
          "text": [
            "✅ File handling works perfectly!\n"
          ]
        }
      ]
    },
    {
      "cell_type": "code",
      "execution_count": 1,
      "metadata": {
        "id": "9pGKM7Dva9tV"
      },
      "outputs": [],
      "source": [
        "# Create a Python module file named utils.py and define functions: read_text(file_path) reads a .txt file and returns list of lines\n",
        "\n",
        "def read_text(file_path):\n",
        "    with open(file_path, 'r') as file:\n",
        "        lines = file.readlines()\n",
        "    return lines"
      ]
    },
    {
      "cell_type": "code",
      "source": [
        "# read_text(file_path) → reads a .txt file and returns list of lines.\n",
        "\n",
        "file_path = 'example.txt'\n",
        "lines = read_text(file_path)\n",
        "print(lines)"
      ],
      "metadata": {
        "colab": {
          "base_uri": "https://localhost:8080/"
        },
        "id": "Z0Ktl9hP-4Id",
        "outputId": "35e1debb-ecd3-4b59-f9a7-8fd58ab57ef0"
      },
      "execution_count": 5,
      "outputs": [
        {
          "output_type": "stream",
          "name": "stdout",
          "text": [
            "['You Are Amazing!']\n"
          ]
        }
      ]
    },
    {
      "cell_type": "code",
      "source": [
        "# write_text(file_path, lines_list) → writes list to .txt.\n",
        "\n",
        "def write_text(file_path, lines_list):\n",
        "    with open(file_path, 'w') as file:\n",
        "        file.writelines(lines_list)"
      ],
      "metadata": {
        "id": "XM1jlxt__R8i"
      },
      "execution_count": 8,
      "outputs": []
    },
    {
      "cell_type": "code",
      "source": [
        "# Use read_text to read a small sample .txt file of your choice (create it), then use write_text to write a modified version (e.g., uppercase all lines).\n",
        "\n",
        "file_path = 'example.txt'\n",
        "lines = read_text(file_path)\n",
        "modified_lines = [line.upper() for line in lines]\n",
        "write_text('modified_example.txt', modified_lines)\n",
        "\n",
        "print(modified_lines)"
      ],
      "metadata": {
        "colab": {
          "base_uri": "https://localhost:8080/"
        },
        "id": "bt857Mhe_nUV",
        "outputId": "080ab135-66e4-4551-e5b6-7d2a0eca531f"
      },
      "execution_count": 10,
      "outputs": [
        {
          "output_type": "stream",
          "name": "stdout",
          "text": [
            "['YOU ARE AMAZING!']\n"
          ]
        }
      ]
    },
    {
      "cell_type": "code",
      "source": [
        "# Use assert to make sure the number of lines in input = number of lines in output.\n",
        "\n",
        "input_file_path = 'example.txt'\n",
        "output_file_path = 'modified_example.txt'\n",
        "\n",
        "input_lines = read_text(input_file_path)\n",
        "output_lines = read_text(output_file_path)\n",
        "\n",
        "print(len(input_lines))\n",
        "print(len(output_lines))\n",
        "assert len(input_lines) == len(output_lines)"
      ],
      "metadata": {
        "colab": {
          "base_uri": "https://localhost:8080/"
        },
        "id": "zUnvKp8M_yWj",
        "outputId": "bf15893c-2c91-4867-b773-ea95390fb4b2"
      },
      "execution_count": 11,
      "outputs": [
        {
          "output_type": "stream",
          "name": "stdout",
          "text": [
            "1\n",
            "1\n"
          ]
        }
      ]
    },
    {
      "cell_type": "markdown",
      "source": [
        "# **Part 2: Pandas Data Loading & Operations**"
      ],
      "metadata": {
        "id": "4Fqh6SgzACop"
      }
    },
    {
      "cell_type": "code",
      "source": [
        "# Download a small CSV dataset (for example: Iris dataset or any dataset < 10k rows)\n",
        "\n",
        "import pandas as pd\n",
        "\n",
        "url = 'https://archive.ics.uci.edu/ml/machine-learning-databases/iris/iris.data'\n",
        "df = pd.read_csv(url, header=None)\n",
        "df"
      ],
      "metadata": {
        "colab": {
          "base_uri": "https://localhost:8080/",
          "height": 423
        },
        "id": "Ea5lTq6BABPE",
        "outputId": "0ac603d1-5a4b-408e-890a-9127500d0822"
      },
      "execution_count": 12,
      "outputs": [
        {
          "output_type": "execute_result",
          "data": {
            "text/plain": [
              "       0    1    2    3               4\n",
              "0    5.1  3.5  1.4  0.2     Iris-setosa\n",
              "1    4.9  3.0  1.4  0.2     Iris-setosa\n",
              "2    4.7  3.2  1.3  0.2     Iris-setosa\n",
              "3    4.6  3.1  1.5  0.2     Iris-setosa\n",
              "4    5.0  3.6  1.4  0.2     Iris-setosa\n",
              "..   ...  ...  ...  ...             ...\n",
              "145  6.7  3.0  5.2  2.3  Iris-virginica\n",
              "146  6.3  2.5  5.0  1.9  Iris-virginica\n",
              "147  6.5  3.0  5.2  2.0  Iris-virginica\n",
              "148  6.2  3.4  5.4  2.3  Iris-virginica\n",
              "149  5.9  3.0  5.1  1.8  Iris-virginica\n",
              "\n",
              "[150 rows x 5 columns]"
            ],
            "text/html": [
              "\n",
              "  <div id=\"df-ae5922d4-d47c-4dd3-b9bf-928653c79b7e\" class=\"colab-df-container\">\n",
              "    <div>\n",
              "<style scoped>\n",
              "    .dataframe tbody tr th:only-of-type {\n",
              "        vertical-align: middle;\n",
              "    }\n",
              "\n",
              "    .dataframe tbody tr th {\n",
              "        vertical-align: top;\n",
              "    }\n",
              "\n",
              "    .dataframe thead th {\n",
              "        text-align: right;\n",
              "    }\n",
              "</style>\n",
              "<table border=\"1\" class=\"dataframe\">\n",
              "  <thead>\n",
              "    <tr style=\"text-align: right;\">\n",
              "      <th></th>\n",
              "      <th>0</th>\n",
              "      <th>1</th>\n",
              "      <th>2</th>\n",
              "      <th>3</th>\n",
              "      <th>4</th>\n",
              "    </tr>\n",
              "  </thead>\n",
              "  <tbody>\n",
              "    <tr>\n",
              "      <th>0</th>\n",
              "      <td>5.1</td>\n",
              "      <td>3.5</td>\n",
              "      <td>1.4</td>\n",
              "      <td>0.2</td>\n",
              "      <td>Iris-setosa</td>\n",
              "    </tr>\n",
              "    <tr>\n",
              "      <th>1</th>\n",
              "      <td>4.9</td>\n",
              "      <td>3.0</td>\n",
              "      <td>1.4</td>\n",
              "      <td>0.2</td>\n",
              "      <td>Iris-setosa</td>\n",
              "    </tr>\n",
              "    <tr>\n",
              "      <th>2</th>\n",
              "      <td>4.7</td>\n",
              "      <td>3.2</td>\n",
              "      <td>1.3</td>\n",
              "      <td>0.2</td>\n",
              "      <td>Iris-setosa</td>\n",
              "    </tr>\n",
              "    <tr>\n",
              "      <th>3</th>\n",
              "      <td>4.6</td>\n",
              "      <td>3.1</td>\n",
              "      <td>1.5</td>\n",
              "      <td>0.2</td>\n",
              "      <td>Iris-setosa</td>\n",
              "    </tr>\n",
              "    <tr>\n",
              "      <th>4</th>\n",
              "      <td>5.0</td>\n",
              "      <td>3.6</td>\n",
              "      <td>1.4</td>\n",
              "      <td>0.2</td>\n",
              "      <td>Iris-setosa</td>\n",
              "    </tr>\n",
              "    <tr>\n",
              "      <th>...</th>\n",
              "      <td>...</td>\n",
              "      <td>...</td>\n",
              "      <td>...</td>\n",
              "      <td>...</td>\n",
              "      <td>...</td>\n",
              "    </tr>\n",
              "    <tr>\n",
              "      <th>145</th>\n",
              "      <td>6.7</td>\n",
              "      <td>3.0</td>\n",
              "      <td>5.2</td>\n",
              "      <td>2.3</td>\n",
              "      <td>Iris-virginica</td>\n",
              "    </tr>\n",
              "    <tr>\n",
              "      <th>146</th>\n",
              "      <td>6.3</td>\n",
              "      <td>2.5</td>\n",
              "      <td>5.0</td>\n",
              "      <td>1.9</td>\n",
              "      <td>Iris-virginica</td>\n",
              "    </tr>\n",
              "    <tr>\n",
              "      <th>147</th>\n",
              "      <td>6.5</td>\n",
              "      <td>3.0</td>\n",
              "      <td>5.2</td>\n",
              "      <td>2.0</td>\n",
              "      <td>Iris-virginica</td>\n",
              "    </tr>\n",
              "    <tr>\n",
              "      <th>148</th>\n",
              "      <td>6.2</td>\n",
              "      <td>3.4</td>\n",
              "      <td>5.4</td>\n",
              "      <td>2.3</td>\n",
              "      <td>Iris-virginica</td>\n",
              "    </tr>\n",
              "    <tr>\n",
              "      <th>149</th>\n",
              "      <td>5.9</td>\n",
              "      <td>3.0</td>\n",
              "      <td>5.1</td>\n",
              "      <td>1.8</td>\n",
              "      <td>Iris-virginica</td>\n",
              "    </tr>\n",
              "  </tbody>\n",
              "</table>\n",
              "<p>150 rows × 5 columns</p>\n",
              "</div>\n",
              "    <div class=\"colab-df-buttons\">\n",
              "\n",
              "  <div class=\"colab-df-container\">\n",
              "    <button class=\"colab-df-convert\" onclick=\"convertToInteractive('df-ae5922d4-d47c-4dd3-b9bf-928653c79b7e')\"\n",
              "            title=\"Convert this dataframe to an interactive table.\"\n",
              "            style=\"display:none;\">\n",
              "\n",
              "  <svg xmlns=\"http://www.w3.org/2000/svg\" height=\"24px\" viewBox=\"0 -960 960 960\">\n",
              "    <path d=\"M120-120v-720h720v720H120Zm60-500h600v-160H180v160Zm220 220h160v-160H400v160Zm0 220h160v-160H400v160ZM180-400h160v-160H180v160Zm440 0h160v-160H620v160ZM180-180h160v-160H180v160Zm440 0h160v-160H620v160Z\"/>\n",
              "  </svg>\n",
              "    </button>\n",
              "\n",
              "  <style>\n",
              "    .colab-df-container {\n",
              "      display:flex;\n",
              "      gap: 12px;\n",
              "    }\n",
              "\n",
              "    .colab-df-convert {\n",
              "      background-color: #E8F0FE;\n",
              "      border: none;\n",
              "      border-radius: 50%;\n",
              "      cursor: pointer;\n",
              "      display: none;\n",
              "      fill: #1967D2;\n",
              "      height: 32px;\n",
              "      padding: 0 0 0 0;\n",
              "      width: 32px;\n",
              "    }\n",
              "\n",
              "    .colab-df-convert:hover {\n",
              "      background-color: #E2EBFA;\n",
              "      box-shadow: 0px 1px 2px rgba(60, 64, 67, 0.3), 0px 1px 3px 1px rgba(60, 64, 67, 0.15);\n",
              "      fill: #174EA6;\n",
              "    }\n",
              "\n",
              "    .colab-df-buttons div {\n",
              "      margin-bottom: 4px;\n",
              "    }\n",
              "\n",
              "    [theme=dark] .colab-df-convert {\n",
              "      background-color: #3B4455;\n",
              "      fill: #D2E3FC;\n",
              "    }\n",
              "\n",
              "    [theme=dark] .colab-df-convert:hover {\n",
              "      background-color: #434B5C;\n",
              "      box-shadow: 0px 1px 3px 1px rgba(0, 0, 0, 0.15);\n",
              "      filter: drop-shadow(0px 1px 2px rgba(0, 0, 0, 0.3));\n",
              "      fill: #FFFFFF;\n",
              "    }\n",
              "  </style>\n",
              "\n",
              "    <script>\n",
              "      const buttonEl =\n",
              "        document.querySelector('#df-ae5922d4-d47c-4dd3-b9bf-928653c79b7e button.colab-df-convert');\n",
              "      buttonEl.style.display =\n",
              "        google.colab.kernel.accessAllowed ? 'block' : 'none';\n",
              "\n",
              "      async function convertToInteractive(key) {\n",
              "        const element = document.querySelector('#df-ae5922d4-d47c-4dd3-b9bf-928653c79b7e');\n",
              "        const dataTable =\n",
              "          await google.colab.kernel.invokeFunction('convertToInteractive',\n",
              "                                                    [key], {});\n",
              "        if (!dataTable) return;\n",
              "\n",
              "        const docLinkHtml = 'Like what you see? Visit the ' +\n",
              "          '<a target=\"_blank\" href=https://colab.research.google.com/notebooks/data_table.ipynb>data table notebook</a>'\n",
              "          + ' to learn more about interactive tables.';\n",
              "        element.innerHTML = '';\n",
              "        dataTable['output_type'] = 'display_data';\n",
              "        await google.colab.output.renderOutput(dataTable, element);\n",
              "        const docLink = document.createElement('div');\n",
              "        docLink.innerHTML = docLinkHtml;\n",
              "        element.appendChild(docLink);\n",
              "      }\n",
              "    </script>\n",
              "  </div>\n",
              "\n",
              "\n",
              "    <div id=\"df-af5ea0f6-2148-4330-aa7e-f141b307b150\">\n",
              "      <button class=\"colab-df-quickchart\" onclick=\"quickchart('df-af5ea0f6-2148-4330-aa7e-f141b307b150')\"\n",
              "                title=\"Suggest charts\"\n",
              "                style=\"display:none;\">\n",
              "\n",
              "<svg xmlns=\"http://www.w3.org/2000/svg\" height=\"24px\"viewBox=\"0 0 24 24\"\n",
              "     width=\"24px\">\n",
              "    <g>\n",
              "        <path d=\"M19 3H5c-1.1 0-2 .9-2 2v14c0 1.1.9 2 2 2h14c1.1 0 2-.9 2-2V5c0-1.1-.9-2-2-2zM9 17H7v-7h2v7zm4 0h-2V7h2v10zm4 0h-2v-4h2v4z\"/>\n",
              "    </g>\n",
              "</svg>\n",
              "      </button>\n",
              "\n",
              "<style>\n",
              "  .colab-df-quickchart {\n",
              "      --bg-color: #E8F0FE;\n",
              "      --fill-color: #1967D2;\n",
              "      --hover-bg-color: #E2EBFA;\n",
              "      --hover-fill-color: #174EA6;\n",
              "      --disabled-fill-color: #AAA;\n",
              "      --disabled-bg-color: #DDD;\n",
              "  }\n",
              "\n",
              "  [theme=dark] .colab-df-quickchart {\n",
              "      --bg-color: #3B4455;\n",
              "      --fill-color: #D2E3FC;\n",
              "      --hover-bg-color: #434B5C;\n",
              "      --hover-fill-color: #FFFFFF;\n",
              "      --disabled-bg-color: #3B4455;\n",
              "      --disabled-fill-color: #666;\n",
              "  }\n",
              "\n",
              "  .colab-df-quickchart {\n",
              "    background-color: var(--bg-color);\n",
              "    border: none;\n",
              "    border-radius: 50%;\n",
              "    cursor: pointer;\n",
              "    display: none;\n",
              "    fill: var(--fill-color);\n",
              "    height: 32px;\n",
              "    padding: 0;\n",
              "    width: 32px;\n",
              "  }\n",
              "\n",
              "  .colab-df-quickchart:hover {\n",
              "    background-color: var(--hover-bg-color);\n",
              "    box-shadow: 0 1px 2px rgba(60, 64, 67, 0.3), 0 1px 3px 1px rgba(60, 64, 67, 0.15);\n",
              "    fill: var(--button-hover-fill-color);\n",
              "  }\n",
              "\n",
              "  .colab-df-quickchart-complete:disabled,\n",
              "  .colab-df-quickchart-complete:disabled:hover {\n",
              "    background-color: var(--disabled-bg-color);\n",
              "    fill: var(--disabled-fill-color);\n",
              "    box-shadow: none;\n",
              "  }\n",
              "\n",
              "  .colab-df-spinner {\n",
              "    border: 2px solid var(--fill-color);\n",
              "    border-color: transparent;\n",
              "    border-bottom-color: var(--fill-color);\n",
              "    animation:\n",
              "      spin 1s steps(1) infinite;\n",
              "  }\n",
              "\n",
              "  @keyframes spin {\n",
              "    0% {\n",
              "      border-color: transparent;\n",
              "      border-bottom-color: var(--fill-color);\n",
              "      border-left-color: var(--fill-color);\n",
              "    }\n",
              "    20% {\n",
              "      border-color: transparent;\n",
              "      border-left-color: var(--fill-color);\n",
              "      border-top-color: var(--fill-color);\n",
              "    }\n",
              "    30% {\n",
              "      border-color: transparent;\n",
              "      border-left-color: var(--fill-color);\n",
              "      border-top-color: var(--fill-color);\n",
              "      border-right-color: var(--fill-color);\n",
              "    }\n",
              "    40% {\n",
              "      border-color: transparent;\n",
              "      border-right-color: var(--fill-color);\n",
              "      border-top-color: var(--fill-color);\n",
              "    }\n",
              "    60% {\n",
              "      border-color: transparent;\n",
              "      border-right-color: var(--fill-color);\n",
              "    }\n",
              "    80% {\n",
              "      border-color: transparent;\n",
              "      border-right-color: var(--fill-color);\n",
              "      border-bottom-color: var(--fill-color);\n",
              "    }\n",
              "    90% {\n",
              "      border-color: transparent;\n",
              "      border-bottom-color: var(--fill-color);\n",
              "    }\n",
              "  }\n",
              "</style>\n",
              "\n",
              "      <script>\n",
              "        async function quickchart(key) {\n",
              "          const quickchartButtonEl =\n",
              "            document.querySelector('#' + key + ' button');\n",
              "          quickchartButtonEl.disabled = true;  // To prevent multiple clicks.\n",
              "          quickchartButtonEl.classList.add('colab-df-spinner');\n",
              "          try {\n",
              "            const charts = await google.colab.kernel.invokeFunction(\n",
              "                'suggestCharts', [key], {});\n",
              "          } catch (error) {\n",
              "            console.error('Error during call to suggestCharts:', error);\n",
              "          }\n",
              "          quickchartButtonEl.classList.remove('colab-df-spinner');\n",
              "          quickchartButtonEl.classList.add('colab-df-quickchart-complete');\n",
              "        }\n",
              "        (() => {\n",
              "          let quickchartButtonEl =\n",
              "            document.querySelector('#df-af5ea0f6-2148-4330-aa7e-f141b307b150 button');\n",
              "          quickchartButtonEl.style.display =\n",
              "            google.colab.kernel.accessAllowed ? 'block' : 'none';\n",
              "        })();\n",
              "      </script>\n",
              "    </div>\n",
              "\n",
              "  <div id=\"id_d27f542b-509a-4f3e-b225-4cdc98a4227e\">\n",
              "    <style>\n",
              "      .colab-df-generate {\n",
              "        background-color: #E8F0FE;\n",
              "        border: none;\n",
              "        border-radius: 50%;\n",
              "        cursor: pointer;\n",
              "        display: none;\n",
              "        fill: #1967D2;\n",
              "        height: 32px;\n",
              "        padding: 0 0 0 0;\n",
              "        width: 32px;\n",
              "      }\n",
              "\n",
              "      .colab-df-generate:hover {\n",
              "        background-color: #E2EBFA;\n",
              "        box-shadow: 0px 1px 2px rgba(60, 64, 67, 0.3), 0px 1px 3px 1px rgba(60, 64, 67, 0.15);\n",
              "        fill: #174EA6;\n",
              "      }\n",
              "\n",
              "      [theme=dark] .colab-df-generate {\n",
              "        background-color: #3B4455;\n",
              "        fill: #D2E3FC;\n",
              "      }\n",
              "\n",
              "      [theme=dark] .colab-df-generate:hover {\n",
              "        background-color: #434B5C;\n",
              "        box-shadow: 0px 1px 3px 1px rgba(0, 0, 0, 0.15);\n",
              "        filter: drop-shadow(0px 1px 2px rgba(0, 0, 0, 0.3));\n",
              "        fill: #FFFFFF;\n",
              "      }\n",
              "    </style>\n",
              "    <button class=\"colab-df-generate\" onclick=\"generateWithVariable('df')\"\n",
              "            title=\"Generate code using this dataframe.\"\n",
              "            style=\"display:none;\">\n",
              "\n",
              "  <svg xmlns=\"http://www.w3.org/2000/svg\" height=\"24px\"viewBox=\"0 0 24 24\"\n",
              "       width=\"24px\">\n",
              "    <path d=\"M7,19H8.4L18.45,9,17,7.55,7,17.6ZM5,21V16.75L18.45,3.32a2,2,0,0,1,2.83,0l1.4,1.43a1.91,1.91,0,0,1,.58,1.4,1.91,1.91,0,0,1-.58,1.4L9.25,21ZM18.45,9,17,7.55Zm-12,3A5.31,5.31,0,0,0,4.9,8.1,5.31,5.31,0,0,0,1,6.5,5.31,5.31,0,0,0,4.9,4.9,5.31,5.31,0,0,0,6.5,1,5.31,5.31,0,0,0,8.1,4.9,5.31,5.31,0,0,0,12,6.5,5.46,5.46,0,0,0,6.5,12Z\"/>\n",
              "  </svg>\n",
              "    </button>\n",
              "    <script>\n",
              "      (() => {\n",
              "      const buttonEl =\n",
              "        document.querySelector('#id_d27f542b-509a-4f3e-b225-4cdc98a4227e button.colab-df-generate');\n",
              "      buttonEl.style.display =\n",
              "        google.colab.kernel.accessAllowed ? 'block' : 'none';\n",
              "\n",
              "      buttonEl.onclick = () => {\n",
              "        google.colab.notebook.generateWithVariable('df');\n",
              "      }\n",
              "      })();\n",
              "    </script>\n",
              "  </div>\n",
              "\n",
              "    </div>\n",
              "  </div>\n"
            ],
            "application/vnd.google.colaboratory.intrinsic+json": {
              "type": "dataframe",
              "variable_name": "df",
              "summary": "{\n  \"name\": \"df\",\n  \"rows\": 150,\n  \"fields\": [\n    {\n      \"column\": 0,\n      \"properties\": {\n        \"dtype\": \"number\",\n        \"std\": 0.8280661279778629,\n        \"min\": 4.3,\n        \"max\": 7.9,\n        \"num_unique_values\": 35,\n        \"samples\": [\n          6.2,\n          4.5,\n          5.6\n        ],\n        \"semantic_type\": \"\",\n        \"description\": \"\"\n      }\n    },\n    {\n      \"column\": 1,\n      \"properties\": {\n        \"dtype\": \"number\",\n        \"std\": 0.4335943113621737,\n        \"min\": 2.0,\n        \"max\": 4.4,\n        \"num_unique_values\": 23,\n        \"samples\": [\n          2.3,\n          4.0,\n          3.5\n        ],\n        \"semantic_type\": \"\",\n        \"description\": \"\"\n      }\n    },\n    {\n      \"column\": 2,\n      \"properties\": {\n        \"dtype\": \"number\",\n        \"std\": 1.7644204199522617,\n        \"min\": 1.0,\n        \"max\": 6.9,\n        \"num_unique_values\": 43,\n        \"samples\": [\n          6.7,\n          3.8,\n          3.7\n        ],\n        \"semantic_type\": \"\",\n        \"description\": \"\"\n      }\n    },\n    {\n      \"column\": 3,\n      \"properties\": {\n        \"dtype\": \"number\",\n        \"std\": 0.7631607417008414,\n        \"min\": 0.1,\n        \"max\": 2.5,\n        \"num_unique_values\": 22,\n        \"samples\": [\n          0.2,\n          1.2,\n          1.3\n        ],\n        \"semantic_type\": \"\",\n        \"description\": \"\"\n      }\n    },\n    {\n      \"column\": 4,\n      \"properties\": {\n        \"dtype\": \"category\",\n        \"num_unique_values\": 3,\n        \"samples\": [\n          \"Iris-setosa\",\n          \"Iris-versicolor\",\n          \"Iris-virginica\"\n        ],\n        \"semantic_type\": \"\",\n        \"description\": \"\"\n      }\n    }\n  ]\n}"
            }
          },
          "metadata": {},
          "execution_count": 12
        }
      ]
    },
    {
      "cell_type": "code",
      "source": [
        "# Display the first 10 rows, shape, columns, basic statistics (.describe())\n",
        "\n",
        "df = pd.read_csv(url, header=None)\n",
        "print(df.head(10))\n",
        "print(df.shape)\n",
        "print(df.columns)\n",
        "print(df.describe())"
      ],
      "metadata": {
        "colab": {
          "base_uri": "https://localhost:8080/"
        },
        "id": "hYHS9c5QATwJ",
        "outputId": "fbf1c444-bada-4b2e-b2e7-8e4139a18146"
      },
      "execution_count": 15,
      "outputs": [
        {
          "output_type": "stream",
          "name": "stdout",
          "text": [
            "     0    1    2    3            4\n",
            "0  5.1  3.5  1.4  0.2  Iris-setosa\n",
            "1  4.9  3.0  1.4  0.2  Iris-setosa\n",
            "2  4.7  3.2  1.3  0.2  Iris-setosa\n",
            "3  4.6  3.1  1.5  0.2  Iris-setosa\n",
            "4  5.0  3.6  1.4  0.2  Iris-setosa\n",
            "5  5.4  3.9  1.7  0.4  Iris-setosa\n",
            "6  4.6  3.4  1.4  0.3  Iris-setosa\n",
            "7  5.0  3.4  1.5  0.2  Iris-setosa\n",
            "8  4.4  2.9  1.4  0.2  Iris-setosa\n",
            "9  4.9  3.1  1.5  0.1  Iris-setosa\n",
            "(150, 5)\n",
            "Index([0, 1, 2, 3, 4], dtype='int64')\n",
            "                0           1           2           3\n",
            "count  150.000000  150.000000  150.000000  150.000000\n",
            "mean     5.843333    3.054000    3.758667    1.198667\n",
            "std      0.828066    0.433594    1.764420    0.763161\n",
            "min      4.300000    2.000000    1.000000    0.100000\n",
            "25%      5.100000    2.800000    1.600000    0.300000\n",
            "50%      5.800000    3.000000    4.350000    1.300000\n",
            "75%      6.400000    3.300000    5.100000    1.800000\n",
            "max      7.900000    4.400000    6.900000    2.500000\n"
          ]
        }
      ]
    },
    {
      "cell_type": "code",
      "source": [
        "# Select a subset of columns, filter rows by a condition, sort by a column\n",
        "\n",
        "subset_df = df[[0, 1, 2]]\n",
        "print(subset_df)\n",
        "\n",
        "filtered_df = df[df[0] > 5]\n",
        "print(filtered_df)\n",
        "\n",
        "sorted_df = df.sort_values(by=0)\n",
        "print(sorted_df)"
      ],
      "metadata": {
        "colab": {
          "base_uri": "https://localhost:8080/"
        },
        "id": "WoM5mNBQA3HX",
        "outputId": "4d0451ed-ade7-4912-d2ac-d8e3398bd0ab"
      },
      "execution_count": 17,
      "outputs": [
        {
          "output_type": "stream",
          "name": "stdout",
          "text": [
            "       0    1    2\n",
            "0    5.1  3.5  1.4\n",
            "1    4.9  3.0  1.4\n",
            "2    4.7  3.2  1.3\n",
            "3    4.6  3.1  1.5\n",
            "4    5.0  3.6  1.4\n",
            "..   ...  ...  ...\n",
            "145  6.7  3.0  5.2\n",
            "146  6.3  2.5  5.0\n",
            "147  6.5  3.0  5.2\n",
            "148  6.2  3.4  5.4\n",
            "149  5.9  3.0  5.1\n",
            "\n",
            "[150 rows x 3 columns]\n",
            "       0    1    2    3               4\n",
            "0    5.1  3.5  1.4  0.2     Iris-setosa\n",
            "5    5.4  3.9  1.7  0.4     Iris-setosa\n",
            "10   5.4  3.7  1.5  0.2     Iris-setosa\n",
            "14   5.8  4.0  1.2  0.2     Iris-setosa\n",
            "15   5.7  4.4  1.5  0.4     Iris-setosa\n",
            "..   ...  ...  ...  ...             ...\n",
            "145  6.7  3.0  5.2  2.3  Iris-virginica\n",
            "146  6.3  2.5  5.0  1.9  Iris-virginica\n",
            "147  6.5  3.0  5.2  2.0  Iris-virginica\n",
            "148  6.2  3.4  5.4  2.3  Iris-virginica\n",
            "149  5.9  3.0  5.1  1.8  Iris-virginica\n",
            "\n",
            "[118 rows x 5 columns]\n",
            "       0    1    2    3               4\n",
            "13   4.3  3.0  1.1  0.1     Iris-setosa\n",
            "8    4.4  2.9  1.4  0.2     Iris-setosa\n",
            "42   4.4  3.2  1.3  0.2     Iris-setosa\n",
            "38   4.4  3.0  1.3  0.2     Iris-setosa\n",
            "41   4.5  2.3  1.3  0.3     Iris-setosa\n",
            "..   ...  ...  ...  ...             ...\n",
            "122  7.7  2.8  6.7  2.0  Iris-virginica\n",
            "117  7.7  3.8  6.7  2.2  Iris-virginica\n",
            "118  7.7  2.6  6.9  2.3  Iris-virginica\n",
            "135  7.7  3.0  6.1  2.3  Iris-virginica\n",
            "131  7.9  3.8  6.4  2.0  Iris-virginica\n",
            "\n",
            "[150 rows x 5 columns]\n"
          ]
        }
      ]
    },
    {
      "cell_type": "code",
      "source": [
        "# Write the DataFrame back to a new CSV using df.to_csv(\"filtered.csv\", index=False)\n",
        "\n",
        "df2 = df[df[0] > 5]\n",
        "df2.to_csv(\"filtered.csv\", index=False)"
      ],
      "metadata": {
        "id": "QXeMHAbxBCl4"
      },
      "execution_count": 18,
      "outputs": []
    },
    {
      "cell_type": "markdown",
      "source": [
        "# **Part 3: Comprehensions & Advanced Structures**"
      ],
      "metadata": {
        "id": "SdhyXuARBRCy"
      }
    },
    {
      "cell_type": "code",
      "source": [
        "# From the DataFrame you loaded, create a list comprehension that extracts a list of dictionaries: each dict = {column1: value1, column2: value2} for first 50 rows\n",
        "\n",
        "df2 = df.head(50)\n",
        "dict_list = [{column: value for column, value in row.items()} for _, row in df2.iterrows()]\n",
        "print(dict_list)"
      ],
      "metadata": {
        "colab": {
          "base_uri": "https://localhost:8080/"
        },
        "id": "cC-vwCmeBNpM",
        "outputId": "f28ee04a-ded9-4c65-8ab4-471575c5a73f"
      },
      "execution_count": 19,
      "outputs": [
        {
          "output_type": "stream",
          "name": "stdout",
          "text": [
            "[{0: 5.1, 1: 3.5, 2: 1.4, 3: 0.2, 4: 'Iris-setosa'}, {0: 4.9, 1: 3.0, 2: 1.4, 3: 0.2, 4: 'Iris-setosa'}, {0: 4.7, 1: 3.2, 2: 1.3, 3: 0.2, 4: 'Iris-setosa'}, {0: 4.6, 1: 3.1, 2: 1.5, 3: 0.2, 4: 'Iris-setosa'}, {0: 5.0, 1: 3.6, 2: 1.4, 3: 0.2, 4: 'Iris-setosa'}, {0: 5.4, 1: 3.9, 2: 1.7, 3: 0.4, 4: 'Iris-setosa'}, {0: 4.6, 1: 3.4, 2: 1.4, 3: 0.3, 4: 'Iris-setosa'}, {0: 5.0, 1: 3.4, 2: 1.5, 3: 0.2, 4: 'Iris-setosa'}, {0: 4.4, 1: 2.9, 2: 1.4, 3: 0.2, 4: 'Iris-setosa'}, {0: 4.9, 1: 3.1, 2: 1.5, 3: 0.1, 4: 'Iris-setosa'}, {0: 5.4, 1: 3.7, 2: 1.5, 3: 0.2, 4: 'Iris-setosa'}, {0: 4.8, 1: 3.4, 2: 1.6, 3: 0.2, 4: 'Iris-setosa'}, {0: 4.8, 1: 3.0, 2: 1.4, 3: 0.1, 4: 'Iris-setosa'}, {0: 4.3, 1: 3.0, 2: 1.1, 3: 0.1, 4: 'Iris-setosa'}, {0: 5.8, 1: 4.0, 2: 1.2, 3: 0.2, 4: 'Iris-setosa'}, {0: 5.7, 1: 4.4, 2: 1.5, 3: 0.4, 4: 'Iris-setosa'}, {0: 5.4, 1: 3.9, 2: 1.3, 3: 0.4, 4: 'Iris-setosa'}, {0: 5.1, 1: 3.5, 2: 1.4, 3: 0.3, 4: 'Iris-setosa'}, {0: 5.7, 1: 3.8, 2: 1.7, 3: 0.3, 4: 'Iris-setosa'}, {0: 5.1, 1: 3.8, 2: 1.5, 3: 0.3, 4: 'Iris-setosa'}, {0: 5.4, 1: 3.4, 2: 1.7, 3: 0.2, 4: 'Iris-setosa'}, {0: 5.1, 1: 3.7, 2: 1.5, 3: 0.4, 4: 'Iris-setosa'}, {0: 4.6, 1: 3.6, 2: 1.0, 3: 0.2, 4: 'Iris-setosa'}, {0: 5.1, 1: 3.3, 2: 1.7, 3: 0.5, 4: 'Iris-setosa'}, {0: 4.8, 1: 3.4, 2: 1.9, 3: 0.2, 4: 'Iris-setosa'}, {0: 5.0, 1: 3.0, 2: 1.6, 3: 0.2, 4: 'Iris-setosa'}, {0: 5.0, 1: 3.4, 2: 1.6, 3: 0.4, 4: 'Iris-setosa'}, {0: 5.2, 1: 3.5, 2: 1.5, 3: 0.2, 4: 'Iris-setosa'}, {0: 5.2, 1: 3.4, 2: 1.4, 3: 0.2, 4: 'Iris-setosa'}, {0: 4.7, 1: 3.2, 2: 1.6, 3: 0.2, 4: 'Iris-setosa'}, {0: 4.8, 1: 3.1, 2: 1.6, 3: 0.2, 4: 'Iris-setosa'}, {0: 5.4, 1: 3.4, 2: 1.5, 3: 0.4, 4: 'Iris-setosa'}, {0: 5.2, 1: 4.1, 2: 1.5, 3: 0.1, 4: 'Iris-setosa'}, {0: 5.5, 1: 4.2, 2: 1.4, 3: 0.2, 4: 'Iris-setosa'}, {0: 4.9, 1: 3.1, 2: 1.5, 3: 0.1, 4: 'Iris-setosa'}, {0: 5.0, 1: 3.2, 2: 1.2, 3: 0.2, 4: 'Iris-setosa'}, {0: 5.5, 1: 3.5, 2: 1.3, 3: 0.2, 4: 'Iris-setosa'}, {0: 4.9, 1: 3.1, 2: 1.5, 3: 0.1, 4: 'Iris-setosa'}, {0: 4.4, 1: 3.0, 2: 1.3, 3: 0.2, 4: 'Iris-setosa'}, {0: 5.1, 1: 3.4, 2: 1.5, 3: 0.2, 4: 'Iris-setosa'}, {0: 5.0, 1: 3.5, 2: 1.3, 3: 0.3, 4: 'Iris-setosa'}, {0: 4.5, 1: 2.3, 2: 1.3, 3: 0.3, 4: 'Iris-setosa'}, {0: 4.4, 1: 3.2, 2: 1.3, 3: 0.2, 4: 'Iris-setosa'}, {0: 5.0, 1: 3.5, 2: 1.6, 3: 0.6, 4: 'Iris-setosa'}, {0: 5.1, 1: 3.8, 2: 1.9, 3: 0.4, 4: 'Iris-setosa'}, {0: 4.8, 1: 3.0, 2: 1.4, 3: 0.3, 4: 'Iris-setosa'}, {0: 5.1, 1: 3.8, 2: 1.6, 3: 0.2, 4: 'Iris-setosa'}, {0: 4.6, 1: 3.2, 2: 1.4, 3: 0.2, 4: 'Iris-setosa'}, {0: 5.3, 1: 3.7, 2: 1.5, 3: 0.2, 4: 'Iris-setosa'}, {0: 5.0, 1: 3.3, 2: 1.4, 3: 0.2, 4: 'Iris-setosa'}]\n"
          ]
        }
      ]
    },
    {
      "cell_type": "code",
      "source": [
        "# Create a dictionary comprehension: keys = unique values from one column, values = count of each unique value\n",
        "\n",
        "unique_values = df[0].unique()\n",
        "value_counts = {value: df[df[0] == value].shape[0] for value in unique_values}\n",
        "print(value_counts)"
      ],
      "metadata": {
        "colab": {
          "base_uri": "https://localhost:8080/"
        },
        "id": "JoQlsD_JBeSL",
        "outputId": "26069459-e015-4154-948d-fb947a4ff020"
      },
      "execution_count": 20,
      "outputs": [
        {
          "output_type": "stream",
          "name": "stdout",
          "text": [
            "{np.float64(5.1): 9, np.float64(4.9): 6, np.float64(4.7): 2, np.float64(4.6): 4, np.float64(5.0): 10, np.float64(5.4): 6, np.float64(4.4): 3, np.float64(4.8): 5, np.float64(4.3): 1, np.float64(5.8): 7, np.float64(5.7): 8, np.float64(5.2): 4, np.float64(5.5): 7, np.float64(4.5): 1, np.float64(5.3): 1, np.float64(7.0): 1, np.float64(6.4): 7, np.float64(6.9): 4, np.float64(6.5): 5, np.float64(6.3): 9, np.float64(6.6): 2, np.float64(5.9): 3, np.float64(6.0): 6, np.float64(6.1): 6, np.float64(5.6): 6, np.float64(6.7): 8, np.float64(6.2): 4, np.float64(6.8): 3, np.float64(7.1): 1, np.float64(7.6): 1, np.float64(7.3): 1, np.float64(7.2): 3, np.float64(7.7): 4, np.float64(7.4): 1, np.float64(7.9): 1}\n"
          ]
        }
      ]
    }
  ]
}
